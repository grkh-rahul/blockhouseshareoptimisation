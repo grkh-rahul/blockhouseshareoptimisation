{
 "cells": [
  {
   "cell_type": "code",
   "execution_count": 1,
   "id": "f3a73560-4fe4-4b72-9252-45fa6d31a6fb",
   "metadata": {},
   "outputs": [],
   "source": [
    "import pandas as pd\n",
    "import numpy as np\n",
    "\n",
    "# Load the CSV file into a DataFrame\n",
    "file_path = 'FROG_2025-04-07 00_00_00+00_00.csv'  # Replace with the correct path to your CSV file\n",
    "data = pd.read_csv(file_path)"
   ]
  },
  {
   "cell_type": "code",
   "execution_count": 2,
   "id": "077552f7-26c6-4964-ae9d-d789931d0e2a",
   "metadata": {},
   "outputs": [],
   "source": [
    "# Function to calculate the mid price at each time step\n",
    "def calculate_mid_price(bid_px, ask_px):\n",
    "    return (bid_px + ask_px) / 2"
   ]
  },
  {
   "cell_type": "code",
   "execution_count": 3,
   "id": "027a0f69-11de-4c06-b305-77ebb5722a16",
   "metadata": {},
   "outputs": [],
   "source": [
    "# Function to calculate slippage for a given order size 'x'\n",
    "def calculate_slippage(order_size, bid_prices, ask_prices, bid_sizes, ask_sizes, mid_price):\n",
    "    slippage = 0\n",
    "    remaining_size = order_size\n",
    "    execution_price = 0\n",
    "    \n",
    "    # Loop through ask prices to simulate a buy market order\n",
    "    for i in range(len(ask_prices)):\n",
    "        if remaining_size <= ask_sizes[i]:\n",
    "            execution_price += ask_prices[i] * (remaining_size / order_size)\n",
    "            break\n",
    "        else:\n",
    "            execution_price += ask_prices[i] * (ask_sizes[i] / order_size)\n",
    "            remaining_size -= ask_sizes[i]\n",
    "    \n",
    "    # Calculate slippage as the difference between the execution price and the mid price\n",
    "    slippage = execution_price - mid_price\n",
    "    return slippage"
   ]
  },
  {
   "cell_type": "code",
   "execution_count": 4,
   "id": "af61f458-a277-4ca6-8a2b-b160f444778c",
   "metadata": {},
   "outputs": [],
   "source": [
    "\n",
    "# Example: Calculate slippage for an order size of 1000 shares for a given time period\n",
    "def simulate_order_execution(data, order_size):\n",
    "    # Extract relevant data for one time period (e.g., a specific row)\n",
    "    row = data.iloc[0]  # You can adjust this to loop through different rows for different time periods\n",
    "    \n",
    "    bid_prices = row[['bid_px_00', 'bid_px_01', 'bid_px_02', 'bid_px_03', 'bid_px_04',\n",
    "                      'bid_px_05', 'bid_px_06', 'bid_px_07', 'bid_px_08', 'bid_px_09']].values\n",
    "    ask_prices = row[['ask_px_00', 'ask_px_01', 'ask_px_02', 'ask_px_03', 'ask_px_04',\n",
    "                      'ask_px_05', 'ask_px_06', 'ask_px_07', 'ask_px_08', 'ask_px_09']].values\n",
    "    bid_sizes = row[['bid_sz_00', 'bid_sz_01', 'bid_sz_02', 'bid_sz_03', 'bid_sz_04',\n",
    "                     'bid_sz_05', 'bid_sz_06', 'bid_sz_07', 'bid_sz_08', 'bid_sz_09']].values\n",
    "    ask_sizes = row[['ask_sz_00', 'ask_sz_01', 'ask_sz_02', 'ask_sz_03', 'ask_sz_04',\n",
    "                     'ask_sz_05', 'ask_sz_06', 'ask_sz_07', 'ask_sz_08', 'ask_sz_09']].values\n",
    "    \n",
    "    mid_price = calculate_mid_price(row['bid_px_00'], row['ask_px_00'])  # Mid price at the given time\n",
    "    \n",
    "    # Calculate slippage for the order size\n",
    "    slippage = calculate_slippage(order_size, bid_prices, ask_prices, bid_sizes, ask_sizes, mid_price)\n",
    "    return slippage"
   ]
  },
  {
   "cell_type": "code",
   "execution_count": 7,
   "id": "62dc4836-4854-403f-b8d7-5c9b2b0a9e7f",
   "metadata": {},
   "outputs": [
    {
     "name": "stdout",
     "output_type": "stream",
     "text": [
      "Calculated slippage for order size 1000: 1.4568200000000004\n"
     ]
    }
   ],
   "source": [
    "# Example usage: Simulate slippage for an order size of 1000 shares\n",
    "order_size = 1000\n",
    "slippage = simulate_order_execution(data, order_size)\n",
    "print(f\"Calculated slippage for order size {order_size}: {slippage}\")"
   ]
  },
  {
   "cell_type": "code",
   "execution_count": null,
   "id": "59e974a3-d356-4940-9903-8f1308823322",
   "metadata": {},
   "outputs": [],
   "source": []
  }
 ],
 "metadata": {
  "kernelspec": {
   "display_name": "Python 3 (ipykernel)",
   "language": "python",
   "name": "python3"
  },
  "language_info": {
   "codemirror_mode": {
    "name": "ipython",
    "version": 3
   },
   "file_extension": ".py",
   "mimetype": "text/x-python",
   "name": "python",
   "nbconvert_exporter": "python",
   "pygments_lexer": "ipython3",
   "version": "3.12.3"
  }
 },
 "nbformat": 4,
 "nbformat_minor": 5
}
